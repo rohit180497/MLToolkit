{
 "cells": [
  {
   "cell_type": "code",
   "execution_count": 3,
   "metadata": {},
   "outputs": [
    {
     "name": "stdout",
     "output_type": "stream",
     "text": [
      "All libraries imported successfully.\n"
     ]
    }
   ],
   "source": [
    "import numpy\n",
    "import pandas\n",
    "import sklearn\n",
    "import scipy\n",
    "import nltk\n",
    "import plotly\n",
    "import matplotlib\n",
    "import seaborn\n",
    "import pydot\n",
    "import statsmodels\n",
    "import spacy\n",
    "import fastapi\n",
    "import streamlit\n",
    "import polars\n",
    "import xgboost\n",
    "import lightgbm\n",
    "import catboost\n",
    "import pattern\n",
    "import pandasql\n",
    "import mysql.connector\n",
    "import pyodbc\n",
    "import pydantic\n",
    "import azure.identity\n",
    "import flask\n",
    "import joblib\n",
    "import requests\n",
    "import sqlalchemy\n",
    "import tqdm\n",
    "import openpyxl\n",
    "import pyarrow\n",
    "import networkx\n",
    "from bs4 import BeautifulSoup  \n",
    "\n",
    "print(\"All libraries imported successfully.\")\n"
   ]
  },
  {
   "cell_type": "code",
   "execution_count": null,
   "metadata": {},
   "outputs": [],
   "source": []
  }
 ],
 "metadata": {
  "kernelspec": {
   "display_name": ".venv",
   "language": "python",
   "name": "python3"
  },
  "language_info": {
   "codemirror_mode": {
    "name": "ipython",
    "version": 3
   },
   "file_extension": ".py",
   "mimetype": "text/x-python",
   "name": "python",
   "nbconvert_exporter": "python",
   "pygments_lexer": "ipython3",
   "version": "3.11.0"
  }
 },
 "nbformat": 4,
 "nbformat_minor": 2
}
